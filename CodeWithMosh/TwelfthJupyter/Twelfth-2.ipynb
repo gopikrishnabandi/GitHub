{
 "cells": [
  {
   "cell_type": "code",
   "execution_count": 25,
   "metadata": {},
   "outputs": [
    {
     "data": {
      "text/plain": [
       "0.5"
      ]
     },
     "execution_count": 25,
     "metadata": {},
     "output_type": "execute_result"
    }
   ],
   "source": [
    "#real machine learning project\n",
    "#music data\n",
    "#we will use steps discussed in lesson 1 of this topic\n",
    "#http://bit.ly/music-csv\n",
    "#age gender genre (1 is Male, 2 Female)\n",
    "#assumed in the file Men b/w 20 and 25 like hiphop26-30 jazz >30 classical\n",
    "#women 20-25 dance music, 25-30 acoustic , >30 classical\n",
    "#data is made up\n",
    "#download the csv\n",
    "#keep it in same location as the jupyter notebook\n",
    "#sep is seperator which is added by me, as without it data not being organized\n",
    "\n",
    "from sklearn.tree import DecisionTreeClassifier\n",
    "from sklearn.model_selection import train_test_split\n",
    "from sklearn.metrics import accuracy_score\n",
    "import pandas as pd\n",
    "music_data=pd.read_csv('music.csv')\n",
    "music_data\n",
    "\n",
    "#cleaning and preparing the data\n",
    "#no nulls or duplicates\n",
    "#but we need to split the data into two sets, input and output. Fisrt two columns(age, gender) are input and genre is output\n",
    "#when we train a model, we give two seperate datasets input and output,the output set contains the predictions\n",
    "#we are telling the model that a male of 20 years old like hip hop, once we train we give a new input set like asking a question\n",
    "\n",
    "X=music_data.drop(columns=['genre'])#this creates a new data set without the column genre, doesnt modify the original\n",
    "#by convention we use X\n",
    "X #prints the X\n",
    "y=music_data['genre'] #output dataset, by convention we give lower case y\n",
    "\n",
    "#learning and predicting (build a model using ML algorithm)\n",
    "#we are going to use decision tree\n",
    "#already this algorithm is implemented in scikitlearn\n",
    "# from sklearn.tree import DecisionTreeClassifier\n",
    "\n",
    "model=DecisionTreeClassifier() #creating an instance of decsioon tree class\n",
    "#we need to train the model now\n",
    "model.fit(X,y) #takes two datasets input and output\n",
    "music_data #we dont have 21 record\n",
    "#we need to ask our model for prediction \n",
    "predictions=model.predict([[21,1],[22,0]]) #we are aksing two predictions at once\n",
    "predictions\n",
    "\n",
    "\n",
    "#calculating accuracy of a model\n",
    "#for that we need to split our data into two sets, one for training, other for testing\n",
    "#till now we are passing entire dataset\n",
    "#instead of passing tow samples, we can pass our testing data to compare with actual results to claculate accuracy\n",
    "# from sklearn.model_selection import train_test_split\n",
    "#after X and y defining\n",
    "X_train,X_test,y_train,y_test=train_test_split(X,y,test_size=0.2)#20% is test size, unpacking the tuple into 4 variables\n",
    "#modify above code like this\n",
    "model.fit(X_train,y_train) \n",
    "predictions=model.predict(X_test)\n",
    "#now we need to calculate the accuracy, we need to compare predictions made with the input test, to the the actual value in output\n",
    "# from sklearn.metrics import accuracy_score\n",
    "score=accuracy_score(y_test,predictions)#returns score b/w 0 and 1\n",
    "score\n",
    "#ctrl and enter and run to skip switching back to below cell after running\n",
    "#if we increase test_size, we are giving less data to train, accuracy_score will drop, check by modifying test_size=0.8 and running multiple times\n",
    "#before training model make sure to clean data , so as accuracy_score is high, some ML problems need more data to train\n"
   ]
  },
  {
   "cell_type": "code",
   "execution_count": 31,
   "metadata": {},
   "outputs": [
    {
     "data": {
      "text/plain": [
       "array(['HipHop'], dtype=object)"
      ]
     },
     "execution_count": 31,
     "metadata": {},
     "output_type": "execute_result"
    }
   ],
   "source": [
    "#model persistence and loading models\n",
    "#in real applications , training model can take lot of time\n",
    "#we can train model once and save it to a file and reuse instead of running everything again\n",
    "import pandas as pd\n",
    "from sklearn.tree import DecisionTreeClassifier\n",
    "from sklearn.externals import joblib\n",
    "\n",
    "music_data=pd.read_csv('music.csv')\n",
    "X=music_data.drop(columns=['genre'])\n",
    "y=music_data['genre'] \n",
    "\n",
    "model=DecisionTreeClassifier() \n",
    "model.fit(X,y)\n",
    "                       \n",
    "joblib.dump(model,'music-recommender.joblib') #to load the trained model into a file\n",
    "#predictions=model.predict([[21,1]])\n",
    "#comment out all above lines of training model and dumping\n",
    "model=joblib.load('music-recommender.joblib')\n",
    "predictions=model.predict([[21,1]])\n",
    "predictions"
   ]
  },
  {
   "cell_type": "code",
   "execution_count": 38,
   "metadata": {},
   "outputs": [],
   "source": [
    "#visualizing decision trees\n",
    "import pandas as pd\n",
    "from sklearn.tree import DecisionTreeClassifier\n",
    "from sklearn import tree #for visualization\n",
    "\n",
    "music_data=pd.read_csv('music.csv')\n",
    "X=music_data.drop(columns=['genre'])\n",
    "y=music_data['genre'] \n",
    "\n",
    "model=DecisionTreeClassifier() \n",
    "model.fit(X,y)\n",
    "\n",
    "tree.export_graphviz(model,out_file='music-recommender.dot',feature_names=['age','gender'],class_names=sorted(y.unique()),label='all',\n",
    "rounded=True,filled=True)\n",
    "#faeture_name is features of our data\n",
    "#class_name=has all classes of data, we should get unique values of it\n",
    "#ctrl+enter to run\n",
    "#drag drop .dot file to vscode\n",
    "#in vscode extension install graphviz(by joao pinto ) and reload\n",
    "#open preview to the side on the top right corner where there are three dots\n",
    "#we will get a visualization diagram of decison tree\n",
    "#filled =true diagram filled with colors\n",
    "#rounded=true the boxes are rounded\n",
    "#label=all , all of the diagrams have labels\n"
   ]
  },
  {
   "cell_type": "code",
   "execution_count": null,
   "metadata": {},
   "outputs": [],
   "source": []
  }
 ],
 "metadata": {
  "kernelspec": {
   "display_name": "Python 3",
   "language": "python",
   "name": "python3"
  },
  "language_info": {
   "codemirror_mode": {
    "name": "ipython",
    "version": 3
   },
   "file_extension": ".py",
   "mimetype": "text/x-python",
   "name": "python",
   "nbconvert_exporter": "python",
   "pygments_lexer": "ipython3",
   "version": "3.7.4"
  }
 },
 "nbformat": 4,
 "nbformat_minor": 4
}
