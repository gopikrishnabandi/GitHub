{
 "cells": [
  {
   "cell_type": "code",
   "execution_count": 2,
   "metadata": {},
   "outputs": [],
   "source": [
    "#machine Learning in action\n",
    "#import data\n",
    "#clean data\n",
    "#split into twos sets, 1)training(80%) 2)testing(20%)\n",
    "#create a model(select alogirthm like decision trees , neural n/ws). Already built in scikitlearn\n",
    "#train the model (look for pattersn)\n",
    "#make predictions \n",
    "#evaluate prediction and measure the accuracy to improve\n",
    "#select new algorithm, or fine tune parameters to improve accuracy\n",
    "\n",
    "\n",
    "#libraries and tools \n",
    "#numpy -multidimensional arrays\n",
    "#pandas-data analysisis library which provides data frame which is a 2d data structure similar to excel with rows and columns\n",
    "#matplotlib-2d plotting library\n",
    "#scikit-learn popular machine learning library with algoritms\n",
    "#we use jupyter environment, easy for ML projects\n",
    "#to install jupyter we use anaconda platform (anaconda.com), install anaconda for python 3.7\n",
    "#anaconda install pouplar libraries as well, like numpy pandas etc..\n",
    "#skip vscode install as already installed\n",
    "#open terminal and type jupyter notebook to start the notebook server on our machine\n",
    "#automatically opens browser windows that opens local host with port 8888 (this is jupyter dashboard)\n",
    "#go to desktop , craete new python3 notebook\n",
    "#change name from untitled\n",
    "#extension will be saved with .ipynb\n",
    "#click run to run code\n",
    "\n",
    "\n",
    "\n",
    "#importing  a dataset\n",
    "#we will download from kaggle.com\n",
    "#signup on kaggle\n",
    "#in search f, search for video game sales, by gregory smith, analyze sales of 16500 video games\n",
    "#download data set, it will be a zip file, extract the zip and place the .csv in same location as your notebook"
   ]
  },
  {
   "cell_type": "code",
   "execution_count": 3,
   "metadata": {},
   "outputs": [
    {
     "data": {
      "text/plain": [
       "array([[1, 'Wii Sports', 'Wii', ..., 3.77, 8.46, 82.74],\n",
       "       [2, 'Super Mario Bros.', 'NES', ..., 6.81, 0.77, 40.24],\n",
       "       [3, 'Mario Kart Wii', 'Wii', ..., 3.79, 3.31, 35.82],\n",
       "       ...,\n",
       "       [16598, 'SCORE International Baja 1000: The Official Game', 'PS2',\n",
       "        ..., 0.0, 0.0, 0.01],\n",
       "       [16599, 'Know How 2', 'DS', ..., 0.0, 0.0, 0.01],\n",
       "       [16600, 'Spirits & Spells', 'GBA', ..., 0.0, 0.0, 0.01]],\n",
       "      dtype=object)"
      ]
     },
     "execution_count": 3,
     "metadata": {},
     "output_type": "execute_result"
    }
   ],
   "source": [
    "import pandas as pd\n",
    "df=pd.read_csv('vgsales.csv') #if somewhere else give full path. A data frame object is returned\n",
    "df #(to inspect the dataframe),click run\n",
    "df.shape #run (16598,11) rows and columns\n",
    "#we can write in the second segmenet to write code\n",
    "df.describe() #returns info on each column like count, mean,std,min etc..\n",
    "#generally in projects we remove records which dont have value or default them\n",
    "df.values #two dimensional array, array of each individual rows\n",
    "\n",
    "\n",
    "#shortcuts in jupyter\n",
    "#green bar on left means in edit mode, we can write code in that segment\n",
    "#press escape key, green to blue , turns to command mode\n",
    "#in command mode press h , we can list of the keyboard shortcuts\n",
    "#we can write code faster with shortcuts\n",
    "#b inserts cell below\n",
    "#a inserts above, d twice to delete\n",
    "#when we run single cell , only that cell code runs\n",
    "#when we click cell menu on top , click run all\n",
    "#if we click tab we get all available attributes and methods in the object. eg df. and press tab to see all. shift+tab to see the tooltip with info on that method\n",
    "#ctrl+ slash to comment , one more time uncomment\n",
    "#delete all cells by pressing d twice in all cells so as to start our project which we will see next\n",
    "\n",
    "\n",
    "\n",
    "\n"
   ]
  },
  {
   "cell_type": "code",
   "execution_count": null,
   "metadata": {},
   "outputs": [],
   "source": []
  },
  {
   "cell_type": "code",
   "execution_count": null,
   "metadata": {},
   "outputs": [],
   "source": []
  },
  {
   "cell_type": "code",
   "execution_count": null,
   "metadata": {},
   "outputs": [],
   "source": []
  }
 ],
 "metadata": {
  "kernelspec": {
   "display_name": "Python 3",
   "language": "python",
   "name": "python3"
  },
  "language_info": {
   "codemirror_mode": {
    "name": "ipython",
    "version": 3
   },
   "file_extension": ".py",
   "mimetype": "text/x-python",
   "name": "python",
   "nbconvert_exporter": "python",
   "pygments_lexer": "ipython3",
   "version": "3.7.4"
  }
 },
 "nbformat": 4,
 "nbformat_minor": 4
}
